{
 "cells": [
  {
   "cell_type": "code",
   "execution_count": 1,
   "metadata": {},
   "outputs": [],
   "source": [
    "import tensorflow as tf\n",
    "import matplotlib.pyplot as plt\n",
    "from sklearn.model_selection import train_test_split\n",
    "import pandas as pd\n",
    "import numpy as np\n",
    "from tqdm import tqdm\n",
    "import pickle\n",
    "import random\n"
   ]
  },
  {
   "cell_type": "code",
   "execution_count": 14,
   "metadata": {},
   "outputs": [],
   "source": [
    "def generate_multi_mnist_dataset(\n",
    "    seed=0, \n",
    "    fashion_mnist=False\n",
    "):\n",
    "    random.seed(seed)\n",
    "    np.random.seed(seed)\n",
    "\n",
    "    if not fashion_mnist:\n",
    "        data = tf.keras.datasets.mnist.load_data(path=\"mnist.npz\")\n",
    "    else:\n",
    "        with open(\"/home/gridsan/shibal/MixtureOfExperts_shared/raw/multi_fashion_mnist/fashion_mnist_dataset.pkl\", \"rb\") as f:\n",
    "            data = pickle.load(f)\n",
    "    \n",
    "    _X_trainval, _y_trainval = data[0][0], data[0][1]\n",
    "    _X_test, _y_test = data[1][0], data[1][1]\n",
    "\n",
    "    (\n",
    "        _X_train,\n",
    "        _X_val,\n",
    "        _y_train,\n",
    "        _y_val            \n",
    "    ) = train_test_split(\n",
    "        _X_trainval, _y_trainval,\n",
    "        train_size=5/6,\n",
    "        shuffle=True, \n",
    "        stratify=_y_trainval, \n",
    "        random_state=seed       \n",
    "    )\n",
    "\n",
    "    n_train = _X_train.shape[0]\n",
    "    n_val = _X_val.shape[0]\n",
    "    n_test = _X_test.shape[0]\n",
    "\n",
    "    max_hw = _X_train[0].shape[0] + 2 * 4\n",
    "\n",
    "    X_val, y_val = [], [] \n",
    "    for i, image_top_left in tqdm(enumerate(_X_val[:10])):\n",
    "        generate_agg_images(i, image_top_left, max_hw, n_val, _X_val, _y_val, X_val, y_val)\n",
    "    X_val = np.array(X_val) # OK\n",
    "    y_val = np.array(y_val) # OK\n",
    "\n",
    "    X_test, y_test = [], [] \n",
    "    for i, image_top_left in tqdm(enumerate(_X_test[:10])):\n",
    "        generate_agg_images(i, image_top_left, max_hw, n_test, _X_test, _y_test, X_test, y_test)\n",
    "    X_test = np.array(X_test) # OK\n",
    "    y_test = np.array(y_test) # OK\n",
    "\n",
    "    X_train, y_train = [], [] \n",
    "    for i, image_top_left in tqdm(enumerate(_X_train[:10])):\n",
    "        generate_agg_images(i, image_top_left, max_hw, n_train, _X_train, _y_train, X_train, y_train)\n",
    "    X_train = np.array(X_train) # OK\n",
    "    y_train = np.array(y_train) # OK\n",
    "\n",
    "#     if not fashion_mnist:\n",
    "#         bpath = \"../../raw/multi_mnist/\"\n",
    "#     else:\n",
    "#         bpath = \"../../raw/multi_fashion_mnist/\"\n",
    "#     print(f\"\\nSaving shared features to {bpath}...\")\n",
    "#     with open(bpath + \"shared_features/shared_features_train.pkl\", \"wb\") as f:\n",
    "#         pickle.dump(X_train, f)\n",
    "#     with open(bpath + \"shared_features/shared_features_val.pkl\", \"wb\") as f:\n",
    "#         pickle.dump(X_val, f)  \n",
    "#     with open(bpath + \"shared_features/shared_features_test.pkl\", \"wb\") as f:\n",
    "#         pickle.dump(X_test, f)  \n",
    "\n",
    "#     print(f\"\\nSaving targets from first task to {bpath}...\")\n",
    "#     if not fashion_mnist:\n",
    "#         task_name = \"multi_mnist\"\n",
    "#     else:\n",
    "#         task_name = \"multi_fashion_mnist\"\n",
    "#     # with open(bpath + f\"{task_name}_targets/{task_name}_targets_train.csv\", \"wb\") as f:\n",
    "#     #     pickle.dump(y_train, f)\n",
    "#     # with open(bpath + f\"{task_name}_targets/{task_name}_targets_val.csv\", \"wb\") as f:\n",
    "#     #     pickle.dump(y_val, f)  \n",
    "#     # with open(bpath + f\"{task_name}_targets/{task_name}_targets_test.csv\", \"wb\") as f:\n",
    "#     #     pickle.dump(y_test, f)  \n",
    "#     targets_train = pd.DataFrame(y_train)\n",
    "#     targets_train.to_csv(bpath + f\"{task_name}_targets/{task_name}_targets_train.csv\", index=False, header=False)\n",
    "#     targets_val = pd.DataFrame(y_val)\n",
    "#     targets_val.to_csv(bpath + f\"{task_name}_targets/{task_name}_targets_val.csv\", index=False, header=False)\n",
    "#     targets_test = pd.DataFrame(y_test)\n",
    "#     targets_test.to_csv(bpath + f\"{task_name}_targets/{task_name}_targets_test.csv\", index=False, header=False)\n",
    "    return X_train, y_train, X_val, y_val, X_test, y_test\n",
    "\n",
    "    \n",
    "def generate_agg_images(i, image_top_left, max_hw, n, _X, _y, X, y):\n",
    "    zero_cols = np.zeros((\n",
    "        image_top_left.shape[0],\n",
    "        max_hw - image_top_left.shape[0]\n",
    "    ))\n",
    "    zero_rows = np.zeros((\n",
    "        max_hw - image_top_left.shape[0], \n",
    "        max_hw\n",
    "    ))\n",
    "\n",
    "    image_top_left_shifted = np.concatenate(\n",
    "        [\n",
    "            np.concatenate([image_top_left, zero_cols], axis=1), \n",
    "            zero_rows\n",
    "        ], \n",
    "        axis=0\n",
    "    )\n",
    "\n",
    "    other_images_to_pick = [j for j in range(n) if j != i]\n",
    "    randomly_selected_ints = np.random.randint(low=0, high=len(other_images_to_pick)-1, size=2)\n",
    "    index1, index2 = (\n",
    "        other_images_to_pick[randomly_selected_ints[0]],\n",
    "        other_images_to_pick[randomly_selected_ints[1]]\n",
    "    )\n",
    "    image_bottom_right1 = _X[index1]\n",
    "    image_bottom_right1_shifted = np.concatenate(\n",
    "        [\n",
    "            zero_rows,\n",
    "            np.concatenate([zero_cols, image_bottom_right1], axis=1)\n",
    "        ], \n",
    "        axis=0\n",
    "    )\n",
    "    image_bottom_right2 = _X[index2]\n",
    "    image_bottom_right2_shifted = np.concatenate(\n",
    "        [\n",
    "            zero_rows,\n",
    "            np.concatenate([zero_cols, image_bottom_right2], axis=1)\n",
    "        ], \n",
    "        axis=0\n",
    "    )\n",
    "\n",
    "    agg_image1 = image_top_left_shifted + image_bottom_right1_shifted\n",
    "    agg_image2 = image_top_left_shifted + image_bottom_right2_shifted\n",
    "\n",
    "    X.append(agg_image1)\n",
    "    y.append([_y[i], _y[index1]])\n",
    "\n",
    "    X.append(agg_image2)\n",
    "    y.append([_y[i], _y[index2]])    "
   ]
  },
  {
   "cell_type": "code",
   "execution_count": 16,
   "metadata": {},
   "outputs": [
    {
     "name": "stderr",
     "output_type": "stream",
     "text": [
      "10it [00:00, 2096.21it/s]\n",
      "10it [00:00, 2187.72it/s]\n",
      "10it [00:00, 459.01it/s]\n"
     ]
    }
   ],
   "source": [
    "X_train, y_train, X_val, y_val, X_test, y_test = generate_multi_mnist_dataset(fashion_mnist=True)"
   ]
  },
  {
   "cell_type": "code",
   "execution_count": 18,
   "metadata": {},
   "outputs": [
    {
     "data": {
      "text/plain": [
       "((20, 36, 36), (20, 2), (20, 36, 36), (20, 2), (20, 36, 36), (20, 2))"
      ]
     },
     "execution_count": 18,
     "metadata": {},
     "output_type": "execute_result"
    }
   ],
   "source": [
    "X_train.shape, y_train.shape, X_val.shape, y_val.shape, X_test.shape, y_test.shape"
   ]
  },
  {
   "cell_type": "code",
   "execution_count": null,
   "metadata": {},
   "outputs": [],
   "source": []
  }
 ],
 "metadata": {
  "kernelspec": {
   "display_name": "Python [conda env:.conda-CondCompute]",
   "language": "python",
   "name": "conda-env-.conda-CondCompute-py"
  },
  "language_info": {
   "codemirror_mode": {
    "name": "ipython",
    "version": 3
   },
   "file_extension": ".py",
   "mimetype": "text/x-python",
   "name": "python",
   "nbconvert_exporter": "python",
   "pygments_lexer": "ipython3",
   "version": "3.8.12"
  }
 },
 "nbformat": 4,
 "nbformat_minor": 4
}
